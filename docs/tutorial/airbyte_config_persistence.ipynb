{
 "cells": [
  {
   "cell_type": "code",
   "execution_count": null,
   "metadata": {},
   "outputs": [],
   "source": [
    "# Ignore below, setup for Jupyter Notebook\n",
    "\n",
    "AIRBYTE_WORKSPACE=~/Workspace/airbyte\n",
    "TUTORIAL_DIR=$(pwd)/build/persistence-tutorial\n",
    "mkdir -p $TUTORIAL_DIR\n",
    "cd $AIRBYTE_WORKSPACE"
   ]
  },
  {
   "cell_type": "markdown",
   "metadata": {
    "lines_to_next_cell": 0
   },
   "source": [
    "# Airbyte Configuration Persistence Tutorial\n",
    "\n",
    "Once you manage to spin up a local instance of Airbyte, following steps in the [Getting started Tutorial](../getting-started-tutorial.md), you may want to gain a better understanding of what configuration files are available in Airbyte and how to work with it.\n",
    "\n",
    "This tutorial will go over importing and exporting Airbyte configurations of connectors which may be useful if you need for example to version control, share with your team or if you just want to debug things.\n",
    "\n",
    "Here are the goals for this tutorial:\n",
    "1. Access to replication logs files \n",
    "2. Export & Import Airbyte Configuration data files\n",
    "3. Export normalization models to use in your own DBT project\n",
    "\n",
    "## Setting up a local Postgres Destination\n",
    "\n",
    "For this tutorial, we are going to use 2 types of destinations to run our demo where data will be written:\n",
    "- Local File Destination\n",
    "- Local Postgres Database\n",
    "\n",
    "The local files will be written to the directory `/tmp/airbyte_local`.\n",
    "\n",
    "The postgres database that we are going to spin up below will be running locally with the following configuration where data will be written:\n",
    "\n",
    "    - Host: localhost\n",
    "    - Port: 3000\n",
    "    - User: postgres\n",
    "    - Password: password\n",
    "    - DB Name: postgres\n"
   ]
  },
  {
   "cell_type": "code",
   "execution_count": 2,
   "metadata": {},
   "outputs": [
    {
     "name": "stdout",
     "output_type": "stream",
     "text": [
      "File Content in the local destination (may not exist yet):\n",
      "find: /tmp/airbyte_local: No such file or directory\n",
      "\n",
      "Start a Postgres container named local-airbyte-postgres-destination\n",
      "5a1970daa0f58f7e7ab4f04894b19f57a31f850f8c60e8a9afba3d0b26886caa\n",
      "\n",
      "Docker Containers currently running:\n",
      "CONTAINER ID        IMAGE               COMMAND                  CREATED             STATUS                  PORTS                    NAMES\n",
      "5a1970daa0f5        postgres            \"docker-entrypoint.s…\"   1 second ago        Up Less than a second   0.0.0.0:3000->5432/tcp   local-airbyte-postgres-destination\n"
     ]
    }
   ],
   "source": [
    "echo \"File Content in the local destination (may not exist yet):\"\n",
    "find /tmp/airbyte_local\n",
    "\n",
    "echo \"\"\n",
    "\n",
    "docker ps | grep -q local-airbyte-postgres-destination\n",
    "if [ $? -eq 0 ]; then\n",
    "    echo \"Postgres Database local-airbyte-postgres-destination is already up\"\n",
    "else \n",
    "    echo \"Start a Postgres container named local-airbyte-postgres-destination\"\n",
    "    docker run --rm --name local-airbyte-postgres-destination -e POSTGRES_PASSWORD=password -p 3000:5432 -d postgres\n",
    "fi\n",
    "\n",
    "echo \"\"\n",
    "\n",
    "echo \"Docker Containers currently running:\"\n",
    "\n",
    "docker ps"
   ]
  },
  {
   "cell_type": "markdown",
   "metadata": {},
   "source": [
    "## Starting Airbyte Server\n",
    "\n",
    "As we've seen in the previous tutorial, we can spin up Airbyte instance after installing it:\n"
   ]
  },
  {
   "cell_type": "code",
   "execution_count": 3,
   "metadata": {},
   "outputs": [
    {
     "name": "stdout",
     "output_type": "stream",
     "text": [
      "\u001b[33mWARNING\u001b[0m: The API_URL variable is not set. Defaulting to a blank string.\n",
      "Creating network \"airbyte_default\" with the default driver\n",
      "Creating volume \"airbyte_workspace\" with default driver\n",
      "Creating volume \"airbyte_data\" with default driver\n",
      "Creating volume \"airbyte_db\" with default driver\n",
      "Creating init ... \n",
      "\u001b[1BCreating airbyte-data-seed ... \n",
      "Creating airbyte-db        ... \n",
      "\u001b[2BCreating airbyte-server    ... mdone\u001b[0m\n",
      "Creating airbyte-scheduler ... \n",
      "\u001b[2BCreating airbyte-webapp    ... mdone\u001b[0m\n",
      "\u001b[1Bting airbyte-webapp    ... \u001b[32mdone\u001b[0m\n",
      "\n",
      "Docker Containers currently running:\n",
      "CONTAINER ID        IMAGE                           COMMAND                  CREATED             STATUS                  PORTS                              NAMES\n",
      "60d258fa4f28        airbyte/webapp:0.7.0-alpha      \"/docker-entrypoint.…\"   1 second ago        Up Less than a second   0.0.0.0:8000->80/tcp               airbyte-webapp\n",
      "9feab538a50d        airbyte/scheduler:0.7.0-alpha   \"/bin/bash -c './wai…\"   2 seconds ago       Up Less than a second                                      airbyte-scheduler\n",
      "bcd76af9a79d        airbyte/server:0.7.0-alpha      \"/bin/bash -c './wai…\"   2 seconds ago       Up Less than a second   8000/tcp, 0.0.0.0:8001->8001/tcp   airbyte-server\n",
      "297ba926ca74        airbyte/db:0.7.0-alpha          \"docker-entrypoint.s…\"   2 seconds ago       Up 1 second             5432/tcp                           airbyte-db\n",
      "5a1970daa0f5        postgres                        \"docker-entrypoint.s…\"   7 seconds ago       Up 6 seconds            0.0.0.0:3000->5432/tcp             local-airbyte-postgres-destination\n"
     ]
    }
   ],
   "source": [
    "# Check if airbyte is installed\n",
    "docker-compose config &> /dev/null\n",
    "if [ $? -ne 0 ]; then\n",
    "    git clone https://github.com/airbytehq/airbyte.git\n",
    "    cd airbyte\n",
    "fi \n",
    "\n",
    "docker-compose up -d\n",
    "\n",
    "echo -e \"\\n\"\n",
    "\n",
    "echo \"Docker Containers currently running:\"\n",
    "docker ps"
   ]
  },
  {
   "cell_type": "markdown",
   "metadata": {},
   "source": [
    "Note that if you already went through the previous tutorial or already used Airbyte in the past, you may not need to complete the Onboarding process this time.\n",
    "\n",
    "Otherwise, please complete the different steps until you reach the Airbyte Dashboard page.\n",
    "\n",
    "After a few seconds, the UI should be ready to go at http://localhost:8000/.\n",
    "\n",
    "## Notes about running this tutorial on Mac OS vs Linux\n",
    "\n",
    "Note that the commands in this tutorial will vary greatly depending on if you are running a Mac OS or Linux Operation System.\n",
    "\n",
    "Docker for Mac is not a real Docker host, now it actually runs a virtual machine behind the scenes and hides it from you to make things simpler. \n",
    "Simpler, unless you want to dig deeper... just like our current use case where we want to inspect the content of internal Docker volumes...\n",
    "\n",
    "Here are some related links as references on accessing Docker Volumes on Mac OS:\n",
    "- [Screen + tty in 2017 (deprecated?)](https://timonweb.com/docker/getting-path-and-accessing-persistent-volumes-in-docker-for-mac/)\n",
    "- [Using Docker containers in 2019](https://stackoverflow.com/a/55648186)\n",
    "\n",
    "From these discussions, we will be using on Mac OS either:\n",
    "1. any docker container/image to browse the virtual filesystem by mounting the volume in order to access them, for example with [busybox](https://hub.docker.com/_/busybox)\n",
    "2. or extract files from the volume by copying them onto the host with [Docker cp](https://docs.docker.com/engine/reference/commandline/cp/)\n",
    "\n",
    "Therefore, below commands will provide versions that should work for both Mac OS and Linux.\n",
    "\n",
    "On Linux, accessing to named Docker Volume can be easier since you simply need to:\n",
    "    \n",
    "    docker volume inspect <volume_name>\n",
    "    \n",
    "Then look at the \"Mountpoint\" value, this is where the volume is actually stored and you can directly retrieve files directly from that folder.\n",
    "\n",
    "## Export Initial Setup\n",
    "\n",
    "Now let's first make a backup of the configuration state of your Airbyte instance by running the following commands.\n"
   ]
  },
  {
   "cell_type": "code",
   "execution_count": 4,
   "metadata": {},
   "outputs": [],
   "source": [
    "mkdir -p $TUTORIAL_DIR/my-setup\n",
    "\n",
    "docker cp airbyte-server:/data $TUTORIAL_DIR/my-setup"
   ]
  },
  {
   "cell_type": "markdown",
   "metadata": {},
   "source": [
    "## Configure some Exchange Rate source and File destination\n",
    "\n",
    "Head back to http://localhost:8000/ and add more connectors. \n",
    "Here is an example of configuration from an API source:\n",
    "\n",
    "![airbyte_config_persistence_api_source](./airbyte_config_persistence_1.png)\n",
    "\n",
    "and a local file destination:\n",
    "\n",
    "![airbyte_config_persistence_local_file](./airbyte_config_persistence_2.png)\n",
    "\n",
    "## Run a Sync job\n",
    "\n",
    "- once the source and destination are created\n",
    "- the catalog and frequency can be configured\n",
    "- then run the \"Sync Now\" button\n",
    "- finally inspect logs in the UI\n",
    "\n",
    "![airbyte_config_persistence_ui_logs](./airbyte_config_persistence_3.png)"
   ]
  },
  {
   "cell_type": "markdown",
   "metadata": {},
   "source": [
    "## Exploring Logs folders\n",
    "\n",
    "We can read from the lines reported in the logs the working directory that is being used to run the synchronization process from.\n",
    "\n",
    "As an example in the previous run, it is being ran in `/tmp/workspace/4/0` and we notice the different docker commands being used internally are starting with:\n",
    "\n",
    "    docker run --rm -i -v airbyte_workspace:/data -v /tmp/airbyte_local:/local -w /data/4/0 --network host ...\n",
    "\n",
    "From there, we can observe that Airbyte is using a docker named volume called `airbyte_workspace` that is mounted in the container at the location `/data`.\n",
    "\n",
    "Following [Docker Volume documentation](https://docs.docker.com/storage/volumes/), we can inspect and manipulate persisted configuration data in these volumes.\n",
    "For example, we can run any docker container/image to browse the content of this named volume by mounting it in a similar way, let's use the [busybox](https://hub.docker.com/_/busybox) image.\n",
    "\n",
    "    docker run -it --rm --volume airbyte_workspace:/data busybox\n",
    "\n",
    "This will drop you into an `sh` shell to allow you to do what you want inside a BusyBox system from which we can browse the filesystem and accessing to logs files:\n",
    "\n",
    "    ls /data/4/0/\n",
    "\n",
    "Which should output:\n",
    "\n",
    "    catalog.json                  normalize                     tap_config.json\n",
    "    logs.log                      singer_rendered_catalog.json  target_config.json\n",
    "\n",
    "Or you can simply run:"
   ]
  },
  {
   "cell_type": "code",
   "execution_count": 9,
   "metadata": {},
   "outputs": [
    {
     "name": "stdout",
     "output_type": "stream",
     "text": [
      "\u001b[0;0mcatalog.json\u001b[m                  \u001b[0;0msinger_rendered_catalog.json\u001b[m\n",
      "\u001b[0;0mlogs.log\u001b[m                      \u001b[0;0mtap_config.json\u001b[m\n",
      "\u001b[1;34mnormalize\u001b[m                     \u001b[0;0mtarget_config.json\u001b[m\n"
     ]
    }
   ],
   "source": [
    "docker run -it --rm --volume airbyte_workspace:/data busybox ls /data/4/0"
   ]
  },
  {
   "cell_type": "code",
   "execution_count": 10,
   "metadata": {},
   "outputs": [
    {
     "name": "stdout",
     "output_type": "stream",
     "text": [
      "{\"streams\":[{\"stream\":{\"name\":\"exchange_rate\",\"json_schema\":{\"type\":\"object\",\"properties\":{\"CHF\":{\"type\":\"number\"},\"HRK\":{\"type\":\"number\"},\"date\":{\"type\":\"string\"},\"MXN\":{\"type\":\"number\"},\"ZAR\":{\"type\":\"number\"},\"INR\":{\"type\":\"number\"},\"CNY\":{\"type\":\"number\"},\"THB\":{\"type\":\"number\"},\"AUD\":{\"type\":\"number\"},\"ILS\":{\"type\":\"number\"},\"KRW\":{\"type\":\"number\"},\"JPY\":{\"type\":\"number\"},\"PLN\":{\"type\":\"number\"},\"GBP\":{\"type\":\"number\"},\"IDR\":{\"type\":\"number\"},\"HUF\":{\"type\":\"number\"},\"PHP\":{\"type\":\"number\"},\"TRY\":{\"type\":\"number\"},\"RUB\":{\"type\":\"number\"},\"HKD\":{\"type\":\"number\"},\"ISK\":{\"type\":\"number\"},\"EUR\":{\"type\":\"number\"},\"DKK\":{\"type\":\"number\"},\"CAD\":{\"type\":\"number\"},\"MYR\":{\"type\":\"number\"},\"USD\":{\"type\":\"number\"},\"BGN\":{\"type\":\"number\"},\"NOK\":{\"type\":\"number\"},\"RON\":{\"type\":\"number\"},\"SGD\":{\"type\":\"number\"},\"CZK\":{\"type\":\"number\"},\"SEK\":{\"type\":\"number\"},\"NZD\":{\"type\":\"number\"},\"BRL\":{\"type\":\"number\"}}},\"supported_sync_modes\":[\"full_refresh\"],\"default_cursor_field\":[]},\"sync_mode\":\"full_refresh\",\"cursor_field\":[]}]}"
     ]
    }
   ],
   "source": [
    "docker run -it --rm --volume airbyte_workspace:/data busybox cat /data/4/0/catalog.json "
   ]
  },
  {
   "cell_type": "markdown",
   "metadata": {},
   "source": [
    "## Check local data folder\n",
    "\n",
    "Since the job completed successfully, a new file should be available in the special `/local/` directory in the container which is mounted from `/tmp/airbyte_local` on the host machine.\n"
   ]
  },
  {
   "cell_type": "code",
   "execution_count": 11,
   "metadata": {},
   "outputs": [
    {
     "name": "stdout",
     "output_type": "stream",
     "text": [
      "In the container:\n",
      "/local\n",
      "/local/data\n",
      "/local/data/exchange_rate_raw.csv\n",
      "\n",
      "On the host:\n",
      "/tmp/airbyte_local\n",
      "/tmp/airbyte_local/data\n",
      "/tmp/airbyte_local/data/exchange_rate_raw.csv\n"
     ]
    }
   ],
   "source": [
    "echo \"In the container:\"\n",
    "\n",
    "docker run -it --rm -v /tmp/airbyte_local:/local busybox find /local\n",
    "\n",
    "echo \"\"\n",
    "echo \"On the host:\"\n",
    "\n",
    "find /tmp/airbyte_local"
   ]
  },
  {
   "cell_type": "markdown",
   "metadata": {},
   "source": [
    "## Backup Exchange Rate Source and Destination configurations\n",
    "\n",
    "In the following steps, we will play with persistence of configurations so let's make a backup of our newly added connectors for now:\n"
   ]
  },
  {
   "cell_type": "code",
   "execution_count": 12,
   "metadata": {},
   "outputs": [],
   "source": [
    "mkdir -p $TUTORIAL_DIR/exchange-rate-setup\n",
    "\n",
    "docker cp airbyte-server:data $TUTORIAL_DIR/exchange-rate-setup"
   ]
  },
  {
   "cell_type": "markdown",
   "metadata": {},
   "source": [
    "## Shutting down Airbyte server and clear previous configurations\n",
    "\n",
    "Whenever you want to stop the Airbyte server, you can run: `docker-compose down`\n",
    "\n",
    "From [docker documentation](https://docs.docker.com/compose/reference/down/)\n",
    "```\n",
    "This command stops containers and removes containers, networks, volumes, and images created by up.\n",
    "\n",
    "By default, the only things removed are:\n",
    "\n",
    "- Containers for services defined in the Compose file\n",
    "- Networks defined in the networks section of the Compose file\n",
    "- The default network, if one is used\n",
    "\n",
    "Networks and volumes defined as external are never removed.\n",
    "\n",
    "Anonymous volumes are not removed by default. However, as they don’t have a stable name, they will not be automatically mounted by a subsequent up. For data that needs to persist between updates, use host or named volumes.\n",
    "```\n",
    "\n",
    "So since Airbyte is using named volumes to store the configurations, if you run \n",
    "`docker-compose up` again, your connectors configurations from earlier steps will still be available.\n",
    "\n",
    "Let's wipe our configurations on purpose and use the following option:\n",
    "\n",
    "```\n",
    "-v, --volumes           Remove named volumes declared in the `volumes`\n",
    "                            section of the Compose file and anonymous volumes\n",
    "                            attached to containers.\n",
    "```\n",
    "\n",
    "Note that the `/tmp/airbyte_local:/local` that we saw earlier is a [bind mount](https://docs.docker.com/storage/bind-mounts/) so data that was replicated locally won't be affected by the next command.\n",
    "\n",
    "However it will get rid of the named volume workspace so all logs and generated files by Airbyte will be lost.\n",
    "\n",
    "We can then run:\n"
   ]
  },
  {
   "cell_type": "code",
   "execution_count": 13,
   "metadata": {},
   "outputs": [
    {
     "name": "stdout",
     "output_type": "stream",
     "text": [
      "\u001b[33mWARNING\u001b[0m: The API_URL variable is not set. Defaulting to a blank string.\n",
      "Stopping airbyte-webapp    ... \n",
      "Stopping airbyte-scheduler ... \n",
      "Stopping airbyte-server    ... \n",
      "Stopping airbyte-db        ... \n",
      "\u001b[1BRemoving airbyte-webapp    ... mdone\u001b[0m\n",
      "Removing airbyte-scheduler ... \n",
      "Removing airbyte-server    ... \n",
      "Removing airbyte-data-seed ... \n",
      "Removing airbyte-db        ... \n",
      "Removing init              ... \n",
      "\u001b[5BRemoving network airbyte_defaultdone\u001b[0m\n",
      "Removing volume airbyte_workspace\n",
      "Removing volume airbyte_data\n",
      "Removing volume airbyte_db\n",
      "\u001b[33mWARNING\u001b[0m: The API_URL variable is not set. Defaulting to a blank string.\n",
      "Creating network \"airbyte_default\" with the default driver\n",
      "Creating volume \"airbyte_workspace\" with default driver\n",
      "Creating volume \"airbyte_data\" with default driver\n",
      "Creating volume \"airbyte_db\" with default driver\n",
      "Creating init ... \n",
      "\u001b[1BCreating airbyte-data-seed ... \n",
      "Creating airbyte-db        ... \n",
      "\u001b[1BCreating airbyte-server    ... mdone\u001b[0m\n",
      "\u001b[3BCreating airbyte-scheduler ... mdone\u001b[0m\n",
      "\u001b[2BCreating airbyte-webapp    ... mdone\u001b[0m\n",
      "\u001b[1Bting airbyte-webapp    ... \u001b[32mdone\u001b[0m"
     ]
    }
   ],
   "source": [
    "docker-compose down -v\n",
    "docker-compose up -d"
   ]
  },
  {
   "cell_type": "markdown",
   "metadata": {},
   "source": [
    "Wait a moment for the webserver to start and go refresh the page http://localhost:8000/.\n",
    "\n",
    "We are prompted with the onboarding process again...\n",
    "\n",
    "Let's ignore that step, close the page and go back to the notebook to import configurations from our initial setup instead.\n",
    "\n",
    "## Restore our initial setup\n",
    "\n",
    "We can play and restore files in the named docker volume `data` and thus retrieve files that were created from earlier:\n"
   ]
  },
  {
   "cell_type": "code",
   "execution_count": 15,
   "metadata": {},
   "outputs": [],
   "source": [
    "docker cp $TUTORIAL_DIR/my-setup/data/config airbyte-server:data"
   ]
  },
  {
   "cell_type": "markdown",
   "metadata": {},
   "source": [
    "Now refresh back the page http://localhost:8000/ again, wait a little bit for the server to pick up the freshly imported configurations...\n",
    "Tada! We don't need to complete the onboarding process anymore! \n",
    "and we have the list of connectors that were created previously available again. Thus you can use this ability of export/import files from named volumes to share with others the configuration of your connectors.\n",
    "\n",
    "Warning: and it will include credentials, so be careful too!\n",
    "\n",
    "## Configure some Covid (data) source and Postgres destinations\n",
    "\n",
    "Let's re-iterate the source and destination creation, this time, with a file accessible from a public API:\n",
    "\n",
    "![airbyte_config_persistence_ui_logs](./airbyte_config_persistence_4.png)\n",
    "\n",
    "And a local Postgres Database:\n",
    "\n",
    "![airbyte_config_persistence_ui_logs](./airbyte_config_persistence_5.png)\n",
    "\n",
    "After setting up the connectors, we can trigger the sync and study the logs:\n",
    "\n",
    "![airbyte_config_persistence_ui_logs](./airbyte_config_persistence_6.png)\n",
    "\n",
    "## Export and customize Normalization step with DBT\n",
    "\n",
    "In the previous connector configuration, selected a Postgres Database destination and chose to enable the \"Basic Normalization\" option.\n",
    "\n",
    "In Airbyte, data is written in destination in a JSON blob format in tables with suffix \"_raw\" as it is taking care of the `E` and `L` in `ELT`. \n",
    "\n",
    "The normalization option adds a last `T` transformation step that takes care of converting such JSON tables into flat tables. \n",
    "To do so, Airbyte is currently using [DBT](https://docs.getdbt.com/) to handle such tasks which can be manually triggered in the normalization container like this:\n"
   ]
  },
  {
   "cell_type": "code",
   "execution_count": 18,
   "metadata": {},
   "outputs": [
    {
     "name": "stdout",
     "output_type": "stream",
     "text": [
      "Running with dbt=0.18.1\n",
      "dbt version: 0.18.1\n",
      "python version: 3.7.9\n",
      "python path: /usr/local/bin/python\n",
      "os info: Linux-5.4.39-linuxkit-x86_64-with-debian-10.6\n",
      "Using profiles.yml file at ./profiles.yml\n",
      "Using dbt_project.yml file at /data/5/0/normalize/dbt_project.yml\n",
      "\n",
      "Configuration:\n",
      "  profiles.yml file [OK found and valid]\n",
      "  dbt_project.yml file [OK found and valid]\n",
      "\n",
      "Required dependencies:\n",
      " - git [OK found]\n",
      "\n",
      "Connection:\n",
      "  host: localhost\n",
      "  port: 3000\n",
      "  user: postgres\n",
      "  database: postgres\n",
      "  schema: quarantine\n",
      "  search_path: None\n",
      "  keepalives_idle: 0\n",
      "  sslmode: None\n",
      "  Connection test: OK connection ok\n",
      "\n",
      "Running with dbt=0.18.1\n",
      "Found 1 model, 0 tests, 0 snapshots, 0 analyses, 302 macros, 0 operations, 0 seed files, 1 source\n",
      "\n",
      "12:31:25 | Concurrency: 32 threads (target='prod')\n",
      "12:31:25 | \n",
      "12:31:25 | 1 of 1 START table model quarantine.covid_data__gouv_fr...................................................... [RUN]\n",
      "12:31:26 | 1 of 1 OK created table model quarantine.covid_data__gouv_fr................................................. [\u001b[32mSELECT 80901\u001b[0m in 0.99s]\n",
      "12:31:26 | \n",
      "12:31:26 | Finished running 1 table model in 1.14s.\n",
      "\n",
      "\u001b[32mCompleted successfully\u001b[0m\n",
      "\n",
      "Done. PASS=1 WARN=0 ERROR=0 SKIP=0 TOTAL=1\n"
     ]
    }
   ],
   "source": [
    "NORMALIZE_WORKSPACE=`docker run --rm -i -v airbyte_workspace:/data  busybox find /data -path \"*normalize/models*\" | sed -E \"s;/data/([0-9]+/[0-9]+/)normalize/.*;\\1;g\" | sort | \n",
    "uniq | tail -n 1`\n",
    "\n",
    "docker run --rm -i -v airbyte_workspace:/data -w /data/$NORMALIZE_WORKSPACE/normalize --network host --entrypoint /usr/local/bin/dbt airbyte/normalization debug --profiles-dir=. --project-dir=.\n",
    "docker run --rm -i -v airbyte_workspace:/data -w /data/$NORMALIZE_WORKSPACE/normalize --network host --entrypoint /usr/local/bin/dbt airbyte/normalization run --profiles-dir=. --project-dir=."
   ]
  },
  {
   "cell_type": "markdown",
   "metadata": {},
   "source": [
    "As seen earlier, it is possible to browse the workspace folders and examine further logs if an error occurs.\n",
    "\n",
    "In particular, we can also take a look at the DBT models generated by Airbyte and export them to the local host filesystem:\n"
   ]
  },
  {
   "cell_type": "code",
   "execution_count": 19,
   "metadata": {},
   "outputs": [
    {
     "name": "stdout",
     "output_type": "stream",
     "text": [
      "with \n",
      "covid_data__gouv_fr_node as (\n",
      "  select \n",
      "    emitted_at,\n",
      "    {{ dbt_utils.current_timestamp_in_utc()  }} as normalized_at,\n",
      "    cast({{ json_extract_scalar('data', ['jour'])  }} as {{ dbt_utils.type_string()  }}) as jour,\n",
      "    cast({{ json_extract_scalar('data', ['rad'])  }} as {{ dbt_utils.type_float()  }}) as rad,\n",
      "    cast({{ json_extract_scalar('data', ['hosp'])  }} as {{ dbt_utils.type_float()  }}) as hosp,\n",
      "    cast({{ json_extract_scalar('data', ['sexe'])  }} as {{ dbt_utils.type_float()  }}) as sexe,\n",
      "    cast({{ json_extract_scalar('data', ['dep'])  }} as {{ dbt_utils.type_string()  }}) as dep,\n",
      "    cast({{ json_extract_scalar('data', ['dc'])  }} as {{ dbt_utils.type_float()  }}) as dc,\n",
      "    cast({{ json_extract_scalar('data', ['rea'])  }} as {{ dbt_utils.type_float()  }}) as rea\n",
      "  from {{ source('quarantine', 'covid_data__gouv_fr_raw')  }}\n",
      "),\n",
      "covid_data__gouv_fr_with_id as (\n",
      "  select\n",
      "    *,\n",
      "    {{ dbt_utils.surrogate_key([\n",
      "        'jour',\n",
      "        'rad',\n",
      "        'hosp',\n",
      "        'sexe',\n",
      "        'dep',\n",
      "        'dc',\n",
      "        'rea'\n",
      "    ])  }} as _covid_data__gouv_fr_hashid\n",
      "    from covid_data__gouv_fr_node\n",
      ")\n",
      "select * from covid_data__gouv_fr_with_id"
     ]
    }
   ],
   "source": [
    "rm -rf $TUTORIAL_DIR/normalization-files\n",
    "mkdir -p $TUTORIAL_DIR/normalization-files\n",
    "\n",
    "docker cp airbyte-server:/tmp/workspace/$NORMALIZE_WORKSPACE/normalize/ $TUTORIAL_DIR/normalization-files\n",
    "\n",
    "NORMALIZE_DIR=$TUTORIAL_DIR/normalization-files/normalize\n",
    "cd $NORMALIZE_DIR\n",
    "cat $NORMALIZE_DIR/models/generated/*.sql"
   ]
  },
  {
   "cell_type": "markdown",
   "metadata": {},
   "source": [
    "If you have [dbt cli](https://docs.getdbt.com/dbt-cli/cli-overview/) installed on your machine, you can then view, edit, customize and run the dbt models in your project if you want to bypass the normalization steps generated by Airbyte!\n"
   ]
  },
  {
   "cell_type": "code",
   "execution_count": 21,
   "metadata": {},
   "outputs": [
    {
     "name": "stdout",
     "output_type": "stream",
     "text": [
      "/Users/chris/.pyenv/versions/venv/bin/dbt\n",
      "Running with dbt=0.18.1\n",
      "dbt version: 0.18.1\n",
      "python version: 3.7.9\n",
      "python path: /Users/chris/.pyenv/versions/3.7.9/envs/venv/bin/python3.7\n",
      "os info: Darwin-19.6.0-x86_64-i386-64bit\n",
      "Using profiles.yml file at /Users/chris/Workspace/airbyte/docs/tutorial/build/persistence-tutorial/normalization-files/normalize/profiles.yml\n",
      "Using dbt_project.yml file at /Users/chris/Workspace/airbyte/docs/tutorial/build/persistence-tutorial/normalization-files/normalize/dbt_project.yml\n",
      "\n",
      "Configuration:\n",
      "  profiles.yml file [\u001b[32mOK found and valid\u001b[0m]\n",
      "  dbt_project.yml file [\u001b[32mOK found and valid\u001b[0m]\n",
      "\n",
      "Required dependencies:\n",
      " - git [\u001b[32mOK found\u001b[0m]\n",
      "\n",
      "Connection:\n",
      "  host: localhost\n",
      "  port: 3000\n",
      "  user: postgres\n",
      "  database: postgres\n",
      "  schema: quarantine\n",
      "  search_path: None\n",
      "  keepalives_idle: 0\n",
      "  sslmode: None\n",
      "  Connection test: \u001b[32mOK connection ok\u001b[0m\n",
      "\n",
      "\u001b[0mRunning with dbt=0.18.1\n",
      "Installing https://github.com/fishtown-analytics/dbt-utils.git@0.6.2\n",
      "  Installed from revision 0.6.2\n",
      "\n",
      "\u001b[0mRunning with dbt=0.18.1\n",
      "Found 1 model, 0 tests, 0 snapshots, 0 analyses, 302 macros, 0 operations, 0 seed files, 1 source\n",
      "\n",
      "13:31:55 | Concurrency: 32 threads (target='prod')\n",
      "13:31:55 | \n",
      "13:31:55 | 1 of 1 START table model quarantine.covid_data__gouv_fr...................................................... [RUN]\n",
      "13:31:56 | 1 of 1 OK created table model quarantine.covid_data__gouv_fr................................................. [\u001b[32mSELECT 80901\u001b[0m in 0.91s]\n",
      "13:31:56 | \n",
      "13:31:56 | Finished running 1 table model in 1.14s.\n",
      "\n",
      "\u001b[32mCompleted successfully\u001b[0m\n",
      "\n",
      "Done. PASS=1 WARN=0 ERROR=0 SKIP=0 TOTAL=1\n",
      "\u001b[0m"
     ]
    }
   ],
   "source": [
    "dbt debug --profiles-dir=$NORMALIZE_DIR --project-dir=$NORMALIZE_DIR \n",
    "dbt deps --profiles-dir=$NORMALIZE_DIR --project-dir=$NORMALIZE_DIR\n",
    "dbt run --profiles-dir=$NORMALIZE_DIR --project-dir=$NORMALIZE_DIR --full-refresh"
   ]
  }
 ],
 "metadata": {
  "jupytext": {
   "formats": "ipynb,md"
  },
  "kernelspec": {
   "display_name": "Bash",
   "language": "bash",
   "name": "bash"
  },
  "language_info": {
   "codemirror_mode": "shell",
   "file_extension": ".sh",
   "mimetype": "text/x-sh",
   "name": "bash"
  }
 },
 "nbformat": 4,
 "nbformat_minor": 4
}
